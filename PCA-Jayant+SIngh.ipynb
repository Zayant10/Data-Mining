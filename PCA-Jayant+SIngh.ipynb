{
 "cells": [
  {
   "cell_type": "code",
   "execution_count": 25,
   "metadata": {
    "id": "f7ewQdXq1i7X"
   },
   "outputs": [],
   "source": [
    "import numpy as np\n",
    "import pandas as pd\n",
    "import seaborn as sns\n",
    "import matplotlib.pyplot as plt"
   ]
  },
  {
   "cell_type": "markdown",
   "metadata": {
    "id": "SNXiDtcR-szs"
   },
   "source": [
    "# Part 2.1 - PCA: Read the data and perform basic checks like checking head, info, summary, nulls, and duplicates, etc"
   ]
  },
  {
   "cell_type": "code",
   "execution_count": 26,
   "metadata": {
    "colab": {
     "base_uri": "https://localhost:8080/",
     "height": 491
    },
    "id": "eRberbl12Et_",
    "outputId": "f9f0b5d3-153c-45ca-fdc3-59a870e1acad",
    "scrolled": true
   },
   "outputs": [
    {
     "data": {
      "text/html": [
       "<div>\n",
       "<style scoped>\n",
       "    .dataframe tbody tr th:only-of-type {\n",
       "        vertical-align: middle;\n",
       "    }\n",
       "\n",
       "    .dataframe tbody tr th {\n",
       "        vertical-align: top;\n",
       "    }\n",
       "\n",
       "    .dataframe thead th {\n",
       "        text-align: right;\n",
       "    }\n",
       "</style>\n",
       "<table border=\"1\" class=\"dataframe\">\n",
       "  <thead>\n",
       "    <tr style=\"text-align: right;\">\n",
       "      <th></th>\n",
       "      <th>State Code</th>\n",
       "      <th>Dist.Code</th>\n",
       "      <th>State</th>\n",
       "      <th>Area Name</th>\n",
       "      <th>No_HH</th>\n",
       "      <th>TOT_M</th>\n",
       "      <th>TOT_F</th>\n",
       "      <th>M_06</th>\n",
       "      <th>F_06</th>\n",
       "      <th>M_SC</th>\n",
       "      <th>...</th>\n",
       "      <th>MARG_CL_0_3_M</th>\n",
       "      <th>MARG_CL_0_3_F</th>\n",
       "      <th>MARG_AL_0_3_M</th>\n",
       "      <th>MARG_AL_0_3_F</th>\n",
       "      <th>MARG_HH_0_3_M</th>\n",
       "      <th>MARG_HH_0_3_F</th>\n",
       "      <th>MARG_OT_0_3_M</th>\n",
       "      <th>MARG_OT_0_3_F</th>\n",
       "      <th>NON_WORK_M</th>\n",
       "      <th>NON_WORK_F</th>\n",
       "    </tr>\n",
       "  </thead>\n",
       "  <tbody>\n",
       "    <tr>\n",
       "      <th>0</th>\n",
       "      <td>1</td>\n",
       "      <td>1</td>\n",
       "      <td>Jammu &amp; Kashmir</td>\n",
       "      <td>Kupwara</td>\n",
       "      <td>7707</td>\n",
       "      <td>23388</td>\n",
       "      <td>29796</td>\n",
       "      <td>5862</td>\n",
       "      <td>6196</td>\n",
       "      <td>3</td>\n",
       "      <td>...</td>\n",
       "      <td>1150</td>\n",
       "      <td>749</td>\n",
       "      <td>180</td>\n",
       "      <td>237</td>\n",
       "      <td>680</td>\n",
       "      <td>252</td>\n",
       "      <td>32</td>\n",
       "      <td>46</td>\n",
       "      <td>258</td>\n",
       "      <td>214</td>\n",
       "    </tr>\n",
       "    <tr>\n",
       "      <th>1</th>\n",
       "      <td>1</td>\n",
       "      <td>2</td>\n",
       "      <td>Jammu &amp; Kashmir</td>\n",
       "      <td>Badgam</td>\n",
       "      <td>6218</td>\n",
       "      <td>19585</td>\n",
       "      <td>23102</td>\n",
       "      <td>4482</td>\n",
       "      <td>3733</td>\n",
       "      <td>7</td>\n",
       "      <td>...</td>\n",
       "      <td>525</td>\n",
       "      <td>715</td>\n",
       "      <td>123</td>\n",
       "      <td>229</td>\n",
       "      <td>186</td>\n",
       "      <td>148</td>\n",
       "      <td>76</td>\n",
       "      <td>178</td>\n",
       "      <td>140</td>\n",
       "      <td>160</td>\n",
       "    </tr>\n",
       "    <tr>\n",
       "      <th>2</th>\n",
       "      <td>1</td>\n",
       "      <td>3</td>\n",
       "      <td>Jammu &amp; Kashmir</td>\n",
       "      <td>Leh(Ladakh)</td>\n",
       "      <td>4452</td>\n",
       "      <td>6546</td>\n",
       "      <td>10964</td>\n",
       "      <td>1082</td>\n",
       "      <td>1018</td>\n",
       "      <td>3</td>\n",
       "      <td>...</td>\n",
       "      <td>114</td>\n",
       "      <td>188</td>\n",
       "      <td>44</td>\n",
       "      <td>89</td>\n",
       "      <td>3</td>\n",
       "      <td>34</td>\n",
       "      <td>0</td>\n",
       "      <td>4</td>\n",
       "      <td>67</td>\n",
       "      <td>61</td>\n",
       "    </tr>\n",
       "    <tr>\n",
       "      <th>3</th>\n",
       "      <td>1</td>\n",
       "      <td>4</td>\n",
       "      <td>Jammu &amp; Kashmir</td>\n",
       "      <td>Kargil</td>\n",
       "      <td>1320</td>\n",
       "      <td>2784</td>\n",
       "      <td>4206</td>\n",
       "      <td>563</td>\n",
       "      <td>677</td>\n",
       "      <td>0</td>\n",
       "      <td>...</td>\n",
       "      <td>194</td>\n",
       "      <td>247</td>\n",
       "      <td>61</td>\n",
       "      <td>128</td>\n",
       "      <td>13</td>\n",
       "      <td>50</td>\n",
       "      <td>4</td>\n",
       "      <td>10</td>\n",
       "      <td>116</td>\n",
       "      <td>59</td>\n",
       "    </tr>\n",
       "    <tr>\n",
       "      <th>4</th>\n",
       "      <td>1</td>\n",
       "      <td>5</td>\n",
       "      <td>Jammu &amp; Kashmir</td>\n",
       "      <td>Punch</td>\n",
       "      <td>11654</td>\n",
       "      <td>20591</td>\n",
       "      <td>29981</td>\n",
       "      <td>5157</td>\n",
       "      <td>4587</td>\n",
       "      <td>20</td>\n",
       "      <td>...</td>\n",
       "      <td>874</td>\n",
       "      <td>1928</td>\n",
       "      <td>465</td>\n",
       "      <td>1043</td>\n",
       "      <td>205</td>\n",
       "      <td>302</td>\n",
       "      <td>24</td>\n",
       "      <td>105</td>\n",
       "      <td>180</td>\n",
       "      <td>478</td>\n",
       "    </tr>\n",
       "  </tbody>\n",
       "</table>\n",
       "<p>5 rows × 61 columns</p>\n",
       "</div>"
      ],
      "text/plain": [
       "   State Code  Dist.Code            State    Area Name  No_HH  TOT_M  TOT_F  \\\n",
       "0           1          1  Jammu & Kashmir      Kupwara   7707  23388  29796   \n",
       "1           1          2  Jammu & Kashmir       Badgam   6218  19585  23102   \n",
       "2           1          3  Jammu & Kashmir  Leh(Ladakh)   4452   6546  10964   \n",
       "3           1          4  Jammu & Kashmir       Kargil   1320   2784   4206   \n",
       "4           1          5  Jammu & Kashmir        Punch  11654  20591  29981   \n",
       "\n",
       "   M_06  F_06  M_SC  ...  MARG_CL_0_3_M  MARG_CL_0_3_F  MARG_AL_0_3_M  \\\n",
       "0  5862  6196     3  ...           1150            749            180   \n",
       "1  4482  3733     7  ...            525            715            123   \n",
       "2  1082  1018     3  ...            114            188             44   \n",
       "3   563   677     0  ...            194            247             61   \n",
       "4  5157  4587    20  ...            874           1928            465   \n",
       "\n",
       "   MARG_AL_0_3_F  MARG_HH_0_3_M  MARG_HH_0_3_F  MARG_OT_0_3_M  MARG_OT_0_3_F  \\\n",
       "0            237            680            252             32             46   \n",
       "1            229            186            148             76            178   \n",
       "2             89              3             34              0              4   \n",
       "3            128             13             50              4             10   \n",
       "4           1043            205            302             24            105   \n",
       "\n",
       "   NON_WORK_M  NON_WORK_F  \n",
       "0         258         214  \n",
       "1         140         160  \n",
       "2          67          61  \n",
       "3         116          59  \n",
       "4         180         478  \n",
       "\n",
       "[5 rows x 61 columns]"
      ]
     },
     "execution_count": 26,
     "metadata": {},
     "output_type": "execute_result"
    }
   ],
   "source": [
    "data = pd.read_excel('PCA+India+Data_Census.xlsx')\n",
    "data.head(5)"
   ]
  },
  {
   "cell_type": "code",
   "execution_count": 27,
   "metadata": {
    "colab": {
     "base_uri": "https://localhost:8080/",
     "height": 421
    },
    "id": "zpW6-PUa2fqX",
    "outputId": "5a57f845-ccdf-4dac-b2fd-a16afbed3d80"
   },
   "outputs": [
    {
     "data": {
      "text/html": [
       "<div>\n",
       "<style scoped>\n",
       "    .dataframe tbody tr th:only-of-type {\n",
       "        vertical-align: middle;\n",
       "    }\n",
       "\n",
       "    .dataframe tbody tr th {\n",
       "        vertical-align: top;\n",
       "    }\n",
       "\n",
       "    .dataframe thead th {\n",
       "        text-align: right;\n",
       "    }\n",
       "</style>\n",
       "<table border=\"1\" class=\"dataframe\">\n",
       "  <thead>\n",
       "    <tr style=\"text-align: right;\">\n",
       "      <th></th>\n",
       "      <th>State Code</th>\n",
       "      <th>Dist.Code</th>\n",
       "      <th>State</th>\n",
       "      <th>Area Name</th>\n",
       "      <th>No_HH</th>\n",
       "      <th>TOT_M</th>\n",
       "      <th>TOT_F</th>\n",
       "      <th>M_06</th>\n",
       "      <th>F_06</th>\n",
       "      <th>M_SC</th>\n",
       "      <th>...</th>\n",
       "      <th>MARG_CL_0_3_M</th>\n",
       "      <th>MARG_CL_0_3_F</th>\n",
       "      <th>MARG_AL_0_3_M</th>\n",
       "      <th>MARG_AL_0_3_F</th>\n",
       "      <th>MARG_HH_0_3_M</th>\n",
       "      <th>MARG_HH_0_3_F</th>\n",
       "      <th>MARG_OT_0_3_M</th>\n",
       "      <th>MARG_OT_0_3_F</th>\n",
       "      <th>NON_WORK_M</th>\n",
       "      <th>NON_WORK_F</th>\n",
       "    </tr>\n",
       "  </thead>\n",
       "  <tbody>\n",
       "    <tr>\n",
       "      <th>635</th>\n",
       "      <td>34</td>\n",
       "      <td>636</td>\n",
       "      <td>Puducherry</td>\n",
       "      <td>Mahe</td>\n",
       "      <td>3333</td>\n",
       "      <td>8154</td>\n",
       "      <td>11781</td>\n",
       "      <td>1146</td>\n",
       "      <td>1203</td>\n",
       "      <td>21</td>\n",
       "      <td>...</td>\n",
       "      <td>32</td>\n",
       "      <td>47</td>\n",
       "      <td>0</td>\n",
       "      <td>0</td>\n",
       "      <td>0</td>\n",
       "      <td>0</td>\n",
       "      <td>0</td>\n",
       "      <td>0</td>\n",
       "      <td>32</td>\n",
       "      <td>47</td>\n",
       "    </tr>\n",
       "    <tr>\n",
       "      <th>636</th>\n",
       "      <td>34</td>\n",
       "      <td>637</td>\n",
       "      <td>Puducherry</td>\n",
       "      <td>Karaikal</td>\n",
       "      <td>10612</td>\n",
       "      <td>12346</td>\n",
       "      <td>21691</td>\n",
       "      <td>1544</td>\n",
       "      <td>1533</td>\n",
       "      <td>2234</td>\n",
       "      <td>...</td>\n",
       "      <td>155</td>\n",
       "      <td>337</td>\n",
       "      <td>3</td>\n",
       "      <td>14</td>\n",
       "      <td>38</td>\n",
       "      <td>130</td>\n",
       "      <td>4</td>\n",
       "      <td>23</td>\n",
       "      <td>110</td>\n",
       "      <td>170</td>\n",
       "    </tr>\n",
       "    <tr>\n",
       "      <th>637</th>\n",
       "      <td>35</td>\n",
       "      <td>638</td>\n",
       "      <td>Andaman &amp; Nicobar Island</td>\n",
       "      <td>Nicobars</td>\n",
       "      <td>1275</td>\n",
       "      <td>1549</td>\n",
       "      <td>2630</td>\n",
       "      <td>227</td>\n",
       "      <td>225</td>\n",
       "      <td>0</td>\n",
       "      <td>...</td>\n",
       "      <td>104</td>\n",
       "      <td>134</td>\n",
       "      <td>9</td>\n",
       "      <td>4</td>\n",
       "      <td>2</td>\n",
       "      <td>6</td>\n",
       "      <td>17</td>\n",
       "      <td>47</td>\n",
       "      <td>76</td>\n",
       "      <td>77</td>\n",
       "    </tr>\n",
       "    <tr>\n",
       "      <th>638</th>\n",
       "      <td>35</td>\n",
       "      <td>639</td>\n",
       "      <td>Andaman &amp; Nicobar Island</td>\n",
       "      <td>North  &amp; Middle Andaman</td>\n",
       "      <td>3762</td>\n",
       "      <td>5200</td>\n",
       "      <td>8012</td>\n",
       "      <td>723</td>\n",
       "      <td>664</td>\n",
       "      <td>0</td>\n",
       "      <td>...</td>\n",
       "      <td>136</td>\n",
       "      <td>172</td>\n",
       "      <td>24</td>\n",
       "      <td>44</td>\n",
       "      <td>11</td>\n",
       "      <td>21</td>\n",
       "      <td>1</td>\n",
       "      <td>4</td>\n",
       "      <td>100</td>\n",
       "      <td>103</td>\n",
       "    </tr>\n",
       "    <tr>\n",
       "      <th>639</th>\n",
       "      <td>35</td>\n",
       "      <td>640</td>\n",
       "      <td>Andaman &amp; Nicobar Island</td>\n",
       "      <td>South Andaman</td>\n",
       "      <td>7975</td>\n",
       "      <td>11977</td>\n",
       "      <td>18049</td>\n",
       "      <td>1470</td>\n",
       "      <td>1358</td>\n",
       "      <td>0</td>\n",
       "      <td>...</td>\n",
       "      <td>173</td>\n",
       "      <td>122</td>\n",
       "      <td>6</td>\n",
       "      <td>2</td>\n",
       "      <td>17</td>\n",
       "      <td>17</td>\n",
       "      <td>2</td>\n",
       "      <td>4</td>\n",
       "      <td>148</td>\n",
       "      <td>99</td>\n",
       "    </tr>\n",
       "  </tbody>\n",
       "</table>\n",
       "<p>5 rows × 61 columns</p>\n",
       "</div>"
      ],
      "text/plain": [
       "     State Code  Dist.Code                     State                Area Name  \\\n",
       "635          34        636                Puducherry                     Mahe   \n",
       "636          34        637                Puducherry                 Karaikal   \n",
       "637          35        638  Andaman & Nicobar Island                 Nicobars   \n",
       "638          35        639  Andaman & Nicobar Island  North  & Middle Andaman   \n",
       "639          35        640  Andaman & Nicobar Island            South Andaman   \n",
       "\n",
       "     No_HH  TOT_M  TOT_F  M_06  F_06  M_SC  ...  MARG_CL_0_3_M  MARG_CL_0_3_F  \\\n",
       "635   3333   8154  11781  1146  1203    21  ...             32             47   \n",
       "636  10612  12346  21691  1544  1533  2234  ...            155            337   \n",
       "637   1275   1549   2630   227   225     0  ...            104            134   \n",
       "638   3762   5200   8012   723   664     0  ...            136            172   \n",
       "639   7975  11977  18049  1470  1358     0  ...            173            122   \n",
       "\n",
       "     MARG_AL_0_3_M  MARG_AL_0_3_F  MARG_HH_0_3_M  MARG_HH_0_3_F  \\\n",
       "635              0              0              0              0   \n",
       "636              3             14             38            130   \n",
       "637              9              4              2              6   \n",
       "638             24             44             11             21   \n",
       "639              6              2             17             17   \n",
       "\n",
       "     MARG_OT_0_3_M  MARG_OT_0_3_F  NON_WORK_M  NON_WORK_F  \n",
       "635              0              0          32          47  \n",
       "636              4             23         110         170  \n",
       "637             17             47          76          77  \n",
       "638              1              4         100         103  \n",
       "639              2              4         148          99  \n",
       "\n",
       "[5 rows x 61 columns]"
      ]
     },
     "execution_count": 27,
     "metadata": {},
     "output_type": "execute_result"
    }
   ],
   "source": [
    "data.tail(5)"
   ]
  },
  {
   "cell_type": "code",
   "execution_count": 28,
   "metadata": {
    "colab": {
     "base_uri": "https://localhost:8080/"
    },
    "id": "I84dScQn2gbf",
    "outputId": "9018e77e-b450-42c8-cbc7-38c9320dc83b"
   },
   "outputs": [
    {
     "name": "stdout",
     "output_type": "stream",
     "text": [
      "<class 'pandas.core.frame.DataFrame'>\n",
      "RangeIndex: 640 entries, 0 to 639\n",
      "Data columns (total 61 columns):\n",
      " #   Column          Non-Null Count  Dtype \n",
      "---  ------          --------------  ----- \n",
      " 0   State Code      640 non-null    int64 \n",
      " 1   Dist.Code       640 non-null    int64 \n",
      " 2   State           640 non-null    object\n",
      " 3   Area Name       640 non-null    object\n",
      " 4   No_HH           640 non-null    int64 \n",
      " 5   TOT_M           640 non-null    int64 \n",
      " 6   TOT_F           640 non-null    int64 \n",
      " 7   M_06            640 non-null    int64 \n",
      " 8   F_06            640 non-null    int64 \n",
      " 9   M_SC            640 non-null    int64 \n",
      " 10  F_SC            640 non-null    int64 \n",
      " 11  M_ST            640 non-null    int64 \n",
      " 12  F_ST            640 non-null    int64 \n",
      " 13  M_LIT           640 non-null    int64 \n",
      " 14  F_LIT           640 non-null    int64 \n",
      " 15  M_ILL           640 non-null    int64 \n",
      " 16  F_ILL           640 non-null    int64 \n",
      " 17  TOT_WORK_M      640 non-null    int64 \n",
      " 18  TOT_WORK_F      640 non-null    int64 \n",
      " 19  MAINWORK_M      640 non-null    int64 \n",
      " 20  MAINWORK_F      640 non-null    int64 \n",
      " 21  MAIN_CL_M       640 non-null    int64 \n",
      " 22  MAIN_CL_F       640 non-null    int64 \n",
      " 23  MAIN_AL_M       640 non-null    int64 \n",
      " 24  MAIN_AL_F       640 non-null    int64 \n",
      " 25  MAIN_HH_M       640 non-null    int64 \n",
      " 26  MAIN_HH_F       640 non-null    int64 \n",
      " 27  MAIN_OT_M       640 non-null    int64 \n",
      " 28  MAIN_OT_F       640 non-null    int64 \n",
      " 29  MARGWORK_M      640 non-null    int64 \n",
      " 30  MARGWORK_F      640 non-null    int64 \n",
      " 31  MARG_CL_M       640 non-null    int64 \n",
      " 32  MARG_CL_F       640 non-null    int64 \n",
      " 33  MARG_AL_M       640 non-null    int64 \n",
      " 34  MARG_AL_F       640 non-null    int64 \n",
      " 35  MARG_HH_M       640 non-null    int64 \n",
      " 36  MARG_HH_F       640 non-null    int64 \n",
      " 37  MARG_OT_M       640 non-null    int64 \n",
      " 38  MARG_OT_F       640 non-null    int64 \n",
      " 39  MARGWORK_3_6_M  640 non-null    int64 \n",
      " 40  MARGWORK_3_6_F  640 non-null    int64 \n",
      " 41  MARG_CL_3_6_M   640 non-null    int64 \n",
      " 42  MARG_CL_3_6_F   640 non-null    int64 \n",
      " 43  MARG_AL_3_6_M   640 non-null    int64 \n",
      " 44  MARG_AL_3_6_F   640 non-null    int64 \n",
      " 45  MARG_HH_3_6_M   640 non-null    int64 \n",
      " 46  MARG_HH_3_6_F   640 non-null    int64 \n",
      " 47  MARG_OT_3_6_M   640 non-null    int64 \n",
      " 48  MARG_OT_3_6_F   640 non-null    int64 \n",
      " 49  MARGWORK_0_3_M  640 non-null    int64 \n",
      " 50  MARGWORK_0_3_F  640 non-null    int64 \n",
      " 51  MARG_CL_0_3_M   640 non-null    int64 \n",
      " 52  MARG_CL_0_3_F   640 non-null    int64 \n",
      " 53  MARG_AL_0_3_M   640 non-null    int64 \n",
      " 54  MARG_AL_0_3_F   640 non-null    int64 \n",
      " 55  MARG_HH_0_3_M   640 non-null    int64 \n",
      " 56  MARG_HH_0_3_F   640 non-null    int64 \n",
      " 57  MARG_OT_0_3_M   640 non-null    int64 \n",
      " 58  MARG_OT_0_3_F   640 non-null    int64 \n",
      " 59  NON_WORK_M      640 non-null    int64 \n",
      " 60  NON_WORK_F      640 non-null    int64 \n",
      "dtypes: int64(59), object(2)\n",
      "memory usage: 305.1+ KB\n"
     ]
    }
   ],
   "source": [
    "data.info()"
   ]
  },
  {
   "cell_type": "code",
   "execution_count": 29,
   "metadata": {
    "colab": {
     "base_uri": "https://localhost:8080/",
     "height": 411
    },
    "id": "h4q0ztCF2htu",
    "outputId": "49b6fea8-6e48-406d-bfbb-34d23d203b90"
   },
   "outputs": [
    {
     "data": {
      "text/html": [
       "<div>\n",
       "<style scoped>\n",
       "    .dataframe tbody tr th:only-of-type {\n",
       "        vertical-align: middle;\n",
       "    }\n",
       "\n",
       "    .dataframe tbody tr th {\n",
       "        vertical-align: top;\n",
       "    }\n",
       "\n",
       "    .dataframe thead th {\n",
       "        text-align: right;\n",
       "    }\n",
       "</style>\n",
       "<table border=\"1\" class=\"dataframe\">\n",
       "  <thead>\n",
       "    <tr style=\"text-align: right;\">\n",
       "      <th></th>\n",
       "      <th>State Code</th>\n",
       "      <th>Dist.Code</th>\n",
       "      <th>No_HH</th>\n",
       "      <th>TOT_M</th>\n",
       "      <th>TOT_F</th>\n",
       "      <th>M_06</th>\n",
       "      <th>F_06</th>\n",
       "      <th>M_SC</th>\n",
       "      <th>F_SC</th>\n",
       "      <th>M_ST</th>\n",
       "      <th>...</th>\n",
       "      <th>MARG_CL_0_3_M</th>\n",
       "      <th>MARG_CL_0_3_F</th>\n",
       "      <th>MARG_AL_0_3_M</th>\n",
       "      <th>MARG_AL_0_3_F</th>\n",
       "      <th>MARG_HH_0_3_M</th>\n",
       "      <th>MARG_HH_0_3_F</th>\n",
       "      <th>MARG_OT_0_3_M</th>\n",
       "      <th>MARG_OT_0_3_F</th>\n",
       "      <th>NON_WORK_M</th>\n",
       "      <th>NON_WORK_F</th>\n",
       "    </tr>\n",
       "  </thead>\n",
       "  <tbody>\n",
       "    <tr>\n",
       "      <th>count</th>\n",
       "      <td>640.000000</td>\n",
       "      <td>640.000000</td>\n",
       "      <td>640.000000</td>\n",
       "      <td>640.000000</td>\n",
       "      <td>640.000000</td>\n",
       "      <td>640.000000</td>\n",
       "      <td>640.000000</td>\n",
       "      <td>640.000000</td>\n",
       "      <td>640.000000</td>\n",
       "      <td>640.000000</td>\n",
       "      <td>...</td>\n",
       "      <td>640.000000</td>\n",
       "      <td>640.000000</td>\n",
       "      <td>640.000000</td>\n",
       "      <td>640.000000</td>\n",
       "      <td>640.000000</td>\n",
       "      <td>640.000000</td>\n",
       "      <td>640.000000</td>\n",
       "      <td>640.000000</td>\n",
       "      <td>640.000000</td>\n",
       "      <td>640.000000</td>\n",
       "    </tr>\n",
       "    <tr>\n",
       "      <th>mean</th>\n",
       "      <td>17.114062</td>\n",
       "      <td>320.500000</td>\n",
       "      <td>51222.871875</td>\n",
       "      <td>79940.576563</td>\n",
       "      <td>122372.084375</td>\n",
       "      <td>12309.098438</td>\n",
       "      <td>11942.300000</td>\n",
       "      <td>13820.946875</td>\n",
       "      <td>20778.392188</td>\n",
       "      <td>6191.807813</td>\n",
       "      <td>...</td>\n",
       "      <td>1392.973438</td>\n",
       "      <td>2757.050000</td>\n",
       "      <td>250.889062</td>\n",
       "      <td>558.098438</td>\n",
       "      <td>560.690625</td>\n",
       "      <td>1293.431250</td>\n",
       "      <td>71.379688</td>\n",
       "      <td>200.742188</td>\n",
       "      <td>510.014063</td>\n",
       "      <td>704.778125</td>\n",
       "    </tr>\n",
       "    <tr>\n",
       "      <th>std</th>\n",
       "      <td>9.426486</td>\n",
       "      <td>184.896367</td>\n",
       "      <td>48135.405475</td>\n",
       "      <td>73384.511114</td>\n",
       "      <td>113600.717282</td>\n",
       "      <td>11500.906881</td>\n",
       "      <td>11326.294567</td>\n",
       "      <td>14426.373130</td>\n",
       "      <td>21727.887713</td>\n",
       "      <td>9912.668948</td>\n",
       "      <td>...</td>\n",
       "      <td>1489.707052</td>\n",
       "      <td>2788.776676</td>\n",
       "      <td>453.336594</td>\n",
       "      <td>1117.642748</td>\n",
       "      <td>762.578991</td>\n",
       "      <td>1585.377936</td>\n",
       "      <td>107.897627</td>\n",
       "      <td>309.740854</td>\n",
       "      <td>610.603187</td>\n",
       "      <td>910.209225</td>\n",
       "    </tr>\n",
       "    <tr>\n",
       "      <th>min</th>\n",
       "      <td>1.000000</td>\n",
       "      <td>1.000000</td>\n",
       "      <td>350.000000</td>\n",
       "      <td>391.000000</td>\n",
       "      <td>698.000000</td>\n",
       "      <td>56.000000</td>\n",
       "      <td>56.000000</td>\n",
       "      <td>0.000000</td>\n",
       "      <td>0.000000</td>\n",
       "      <td>0.000000</td>\n",
       "      <td>...</td>\n",
       "      <td>4.000000</td>\n",
       "      <td>30.000000</td>\n",
       "      <td>0.000000</td>\n",
       "      <td>0.000000</td>\n",
       "      <td>0.000000</td>\n",
       "      <td>0.000000</td>\n",
       "      <td>0.000000</td>\n",
       "      <td>0.000000</td>\n",
       "      <td>0.000000</td>\n",
       "      <td>5.000000</td>\n",
       "    </tr>\n",
       "    <tr>\n",
       "      <th>25%</th>\n",
       "      <td>9.000000</td>\n",
       "      <td>160.750000</td>\n",
       "      <td>19484.000000</td>\n",
       "      <td>30228.000000</td>\n",
       "      <td>46517.750000</td>\n",
       "      <td>4733.750000</td>\n",
       "      <td>4672.250000</td>\n",
       "      <td>3466.250000</td>\n",
       "      <td>5603.250000</td>\n",
       "      <td>293.750000</td>\n",
       "      <td>...</td>\n",
       "      <td>489.500000</td>\n",
       "      <td>957.250000</td>\n",
       "      <td>47.000000</td>\n",
       "      <td>109.000000</td>\n",
       "      <td>136.500000</td>\n",
       "      <td>298.000000</td>\n",
       "      <td>14.000000</td>\n",
       "      <td>43.000000</td>\n",
       "      <td>161.000000</td>\n",
       "      <td>220.500000</td>\n",
       "    </tr>\n",
       "    <tr>\n",
       "      <th>50%</th>\n",
       "      <td>18.000000</td>\n",
       "      <td>320.500000</td>\n",
       "      <td>35837.000000</td>\n",
       "      <td>58339.000000</td>\n",
       "      <td>87724.500000</td>\n",
       "      <td>9159.000000</td>\n",
       "      <td>8663.000000</td>\n",
       "      <td>9591.500000</td>\n",
       "      <td>13709.000000</td>\n",
       "      <td>2333.500000</td>\n",
       "      <td>...</td>\n",
       "      <td>949.000000</td>\n",
       "      <td>1928.000000</td>\n",
       "      <td>114.500000</td>\n",
       "      <td>247.500000</td>\n",
       "      <td>308.000000</td>\n",
       "      <td>717.000000</td>\n",
       "      <td>35.000000</td>\n",
       "      <td>113.000000</td>\n",
       "      <td>326.000000</td>\n",
       "      <td>464.500000</td>\n",
       "    </tr>\n",
       "    <tr>\n",
       "      <th>75%</th>\n",
       "      <td>24.000000</td>\n",
       "      <td>480.250000</td>\n",
       "      <td>68892.000000</td>\n",
       "      <td>107918.500000</td>\n",
       "      <td>164251.750000</td>\n",
       "      <td>16520.250000</td>\n",
       "      <td>15902.250000</td>\n",
       "      <td>19429.750000</td>\n",
       "      <td>29180.000000</td>\n",
       "      <td>7658.000000</td>\n",
       "      <td>...</td>\n",
       "      <td>1714.000000</td>\n",
       "      <td>3599.750000</td>\n",
       "      <td>270.750000</td>\n",
       "      <td>568.750000</td>\n",
       "      <td>642.000000</td>\n",
       "      <td>1710.750000</td>\n",
       "      <td>79.000000</td>\n",
       "      <td>240.000000</td>\n",
       "      <td>604.500000</td>\n",
       "      <td>853.500000</td>\n",
       "    </tr>\n",
       "    <tr>\n",
       "      <th>max</th>\n",
       "      <td>35.000000</td>\n",
       "      <td>640.000000</td>\n",
       "      <td>310450.000000</td>\n",
       "      <td>485417.000000</td>\n",
       "      <td>750392.000000</td>\n",
       "      <td>96223.000000</td>\n",
       "      <td>95129.000000</td>\n",
       "      <td>103307.000000</td>\n",
       "      <td>156429.000000</td>\n",
       "      <td>96785.000000</td>\n",
       "      <td>...</td>\n",
       "      <td>9875.000000</td>\n",
       "      <td>21611.000000</td>\n",
       "      <td>5775.000000</td>\n",
       "      <td>17153.000000</td>\n",
       "      <td>6116.000000</td>\n",
       "      <td>13714.000000</td>\n",
       "      <td>895.000000</td>\n",
       "      <td>3354.000000</td>\n",
       "      <td>6456.000000</td>\n",
       "      <td>10533.000000</td>\n",
       "    </tr>\n",
       "  </tbody>\n",
       "</table>\n",
       "<p>8 rows × 59 columns</p>\n",
       "</div>"
      ],
      "text/plain": [
       "       State Code   Dist.Code          No_HH          TOT_M          TOT_F  \\\n",
       "count  640.000000  640.000000     640.000000     640.000000     640.000000   \n",
       "mean    17.114062  320.500000   51222.871875   79940.576563  122372.084375   \n",
       "std      9.426486  184.896367   48135.405475   73384.511114  113600.717282   \n",
       "min      1.000000    1.000000     350.000000     391.000000     698.000000   \n",
       "25%      9.000000  160.750000   19484.000000   30228.000000   46517.750000   \n",
       "50%     18.000000  320.500000   35837.000000   58339.000000   87724.500000   \n",
       "75%     24.000000  480.250000   68892.000000  107918.500000  164251.750000   \n",
       "max     35.000000  640.000000  310450.000000  485417.000000  750392.000000   \n",
       "\n",
       "               M_06          F_06           M_SC           F_SC          M_ST  \\\n",
       "count    640.000000    640.000000     640.000000     640.000000    640.000000   \n",
       "mean   12309.098438  11942.300000   13820.946875   20778.392188   6191.807813   \n",
       "std    11500.906881  11326.294567   14426.373130   21727.887713   9912.668948   \n",
       "min       56.000000     56.000000       0.000000       0.000000      0.000000   \n",
       "25%     4733.750000   4672.250000    3466.250000    5603.250000    293.750000   \n",
       "50%     9159.000000   8663.000000    9591.500000   13709.000000   2333.500000   \n",
       "75%    16520.250000  15902.250000   19429.750000   29180.000000   7658.000000   \n",
       "max    96223.000000  95129.000000  103307.000000  156429.000000  96785.000000   \n",
       "\n",
       "       ...  MARG_CL_0_3_M  MARG_CL_0_3_F  MARG_AL_0_3_M  MARG_AL_0_3_F  \\\n",
       "count  ...     640.000000     640.000000     640.000000     640.000000   \n",
       "mean   ...    1392.973438    2757.050000     250.889062     558.098438   \n",
       "std    ...    1489.707052    2788.776676     453.336594    1117.642748   \n",
       "min    ...       4.000000      30.000000       0.000000       0.000000   \n",
       "25%    ...     489.500000     957.250000      47.000000     109.000000   \n",
       "50%    ...     949.000000    1928.000000     114.500000     247.500000   \n",
       "75%    ...    1714.000000    3599.750000     270.750000     568.750000   \n",
       "max    ...    9875.000000   21611.000000    5775.000000   17153.000000   \n",
       "\n",
       "       MARG_HH_0_3_M  MARG_HH_0_3_F  MARG_OT_0_3_M  MARG_OT_0_3_F  \\\n",
       "count     640.000000     640.000000     640.000000     640.000000   \n",
       "mean      560.690625    1293.431250      71.379688     200.742188   \n",
       "std       762.578991    1585.377936     107.897627     309.740854   \n",
       "min         0.000000       0.000000       0.000000       0.000000   \n",
       "25%       136.500000     298.000000      14.000000      43.000000   \n",
       "50%       308.000000     717.000000      35.000000     113.000000   \n",
       "75%       642.000000    1710.750000      79.000000     240.000000   \n",
       "max      6116.000000   13714.000000     895.000000    3354.000000   \n",
       "\n",
       "        NON_WORK_M    NON_WORK_F  \n",
       "count   640.000000    640.000000  \n",
       "mean    510.014063    704.778125  \n",
       "std     610.603187    910.209225  \n",
       "min       0.000000      5.000000  \n",
       "25%     161.000000    220.500000  \n",
       "50%     326.000000    464.500000  \n",
       "75%     604.500000    853.500000  \n",
       "max    6456.000000  10533.000000  \n",
       "\n",
       "[8 rows x 59 columns]"
      ]
     },
     "execution_count": 29,
     "metadata": {},
     "output_type": "execute_result"
    }
   ],
   "source": [
    "data.describe()"
   ]
  },
  {
   "cell_type": "markdown",
   "metadata": {
    "id": "UEQH6U1b2l25"
   },
   "source": [
    "# Null Values Check"
   ]
  },
  {
   "cell_type": "code",
   "execution_count": 30,
   "metadata": {
    "colab": {
     "base_uri": "https://localhost:8080/"
    },
    "id": "Y75peh8r2jjf",
    "outputId": "b8c4cfcf-cf26-4cb5-8060-eab288e314ed"
   },
   "outputs": [
    {
     "data": {
      "text/plain": [
       "State Code       0\n",
       "Dist.Code        0\n",
       "State            0\n",
       "Area Name        0\n",
       "No_HH            0\n",
       "                ..\n",
       "MARG_HH_0_3_F    0\n",
       "MARG_OT_0_3_M    0\n",
       "MARG_OT_0_3_F    0\n",
       "NON_WORK_M       0\n",
       "NON_WORK_F       0\n",
       "Length: 61, dtype: int64"
      ]
     },
     "execution_count": 30,
     "metadata": {},
     "output_type": "execute_result"
    }
   ],
   "source": [
    "data.isnull().sum()"
   ]
  },
  {
   "cell_type": "markdown",
   "metadata": {
    "id": "w2fIAZOl2uuS"
   },
   "source": [
    "#Duplicate Value Check"
   ]
  },
  {
   "cell_type": "code",
   "execution_count": 31,
   "metadata": {
    "colab": {
     "base_uri": "https://localhost:8080/"
    },
    "id": "QbrTvzUS2qrj",
    "outputId": "b83bc335-bc58-4af8-83c6-13b0be6725f6"
   },
   "outputs": [
    {
     "name": "stdout",
     "output_type": "stream",
     "text": [
      "Number of null values:  0\n"
     ]
    }
   ],
   "source": [
    "print(\"Number of null values: \",data.duplicated().sum())"
   ]
  },
  {
   "cell_type": "markdown",
   "metadata": {
    "id": "0f-o-1vM-5qT"
   },
   "source": [
    "# Part 2.2 - PCA: Perform detailed Exploratory analysis by creating certain questions like (i) Which state has highest gender ratio and which has the lowest? (ii) Which district has the highest & lowest gender ratio? (Example Questions). Pick 5 variables out of the given 24 variables below for EDA: No_HH, TOT_M, TOT_F, M_06, F_06, M_SC, F_SC, M_ST, F_ST, M_LIT, F_LIT, M_ILL, F_ILL, TOT_WORK_M, TOT_WORK_F, MAINWORK_M, MAINWORK_F, MAIN_CL_M, MAIN_CL_F, MAIN_AL_M, MAIN_AL_F, MAIN_HH_M, MAIN_HH_F, MAIN_OT_M, MAIN_OT_F"
   ]
  },
  {
   "cell_type": "markdown",
   "metadata": {
    "id": "IbSmd1ua3a8e"
   },
   "source": [
    "# Gender Ratio calculation"
   ]
  },
  {
   "cell_type": "code",
   "execution_count": 32,
   "metadata": {
    "id": "64ixvEuc2yu2"
   },
   "outputs": [],
   "source": [
    "data['Gender_ratio']=data['TOT_M']/data['TOT_F']"
   ]
  },
  {
   "cell_type": "code",
   "execution_count": 33,
   "metadata": {},
   "outputs": [
    {
     "data": {
      "text/plain": [
       "0    0.784938\n",
       "1    0.847762\n",
       "2    0.597045\n",
       "3    0.661912\n",
       "4    0.686802\n",
       "Name: Gender_ratio, dtype: float64"
      ]
     },
     "execution_count": 33,
     "metadata": {},
     "output_type": "execute_result"
    }
   ],
   "source": [
    "data['Gender_ratio'].head(5)"
   ]
  },
  {
   "cell_type": "markdown",
   "metadata": {
    "id": "aw-CHTb_4JQB"
   },
   "source": [
    "# Highest Gender ratio from the code below is a Lashadweep"
   ]
  },
  {
   "cell_type": "code",
   "execution_count": 34,
   "metadata": {},
   "outputs": [
    {
     "data": {
      "text/plain": [
       "0.8680611968589222"
      ]
     },
     "execution_count": 34,
     "metadata": {},
     "output_type": "execute_result"
    }
   ],
   "source": [
    "data['Gender_ratio'].max()"
   ]
  },
  {
   "cell_type": "code",
   "execution_count": 35,
   "metadata": {},
   "outputs": [
    {
     "data": {
      "text/plain": [
       "586    Lakshadweep\n",
       "Name: State, dtype: object"
      ]
     },
     "execution_count": 35,
     "metadata": {},
     "output_type": "execute_result"
    }
   ],
   "source": [
    "s = data[data['Gender_ratio']>=0.86]\n",
    "s['State']"
   ]
  },
  {
   "cell_type": "markdown",
   "metadata": {
    "id": "tVgYvpP14U0k"
   },
   "source": [
    "# Lowest Gender ratio from the code below is of Andhra Pradesh"
   ]
  },
  {
   "cell_type": "code",
   "execution_count": 36,
   "metadata": {
    "colab": {
     "base_uri": "https://localhost:8080/"
    },
    "id": "uNArU2k83ypx",
    "outputId": "829eb54f-b181-4c59-8052-8bebe8ed3801"
   },
   "outputs": [
    {
     "data": {
      "text/plain": [
       "Gender_ratio    0.437972\n",
       "dtype: float64"
      ]
     },
     "execution_count": 36,
     "metadata": {},
     "output_type": "execute_result"
    }
   ],
   "source": [
    "data[['Gender_ratio']].min()"
   ]
  },
  {
   "cell_type": "code",
   "execution_count": 37,
   "metadata": {},
   "outputs": [
    {
     "data": {
      "text/plain": [
       "546    Andhra Pradesh\n",
       "Name: State, dtype: object"
      ]
     },
     "execution_count": 37,
     "metadata": {},
     "output_type": "execute_result"
    }
   ],
   "source": [
    "l =data[data['Gender_ratio']<=0.44]\n",
    "l['State']"
   ]
  },
  {
   "cell_type": "markdown",
   "metadata": {},
   "source": [
    "# Which district has the highest gender ratio"
   ]
  },
  {
   "cell_type": "code",
   "execution_count": 38,
   "metadata": {},
   "outputs": [
    {
     "data": {
      "text/plain": [
       "586    587\n",
       "Name: Dist.Code, dtype: int64"
      ]
     },
     "execution_count": 38,
     "metadata": {},
     "output_type": "execute_result"
    }
   ],
   "source": [
    "new = data[data['Gender_ratio']>=0.868061]\n",
    "new['Dist.Code']"
   ]
  },
  {
   "cell_type": "markdown",
   "metadata": {},
   "source": [
    "# Which district has the Lowest gender ratio "
   ]
  },
  {
   "cell_type": "code",
   "execution_count": 39,
   "metadata": {},
   "outputs": [
    {
     "data": {
      "text/plain": [
       "0.4379722581179062"
      ]
     },
     "execution_count": 39,
     "metadata": {},
     "output_type": "execute_result"
    }
   ],
   "source": [
    "data['Gender_ratio'].min()"
   ]
  },
  {
   "cell_type": "code",
   "execution_count": 40,
   "metadata": {},
   "outputs": [
    {
     "data": {
      "text/plain": [
       "546    547\n",
       "Name: Dist.Code, dtype: int64"
      ]
     },
     "execution_count": 40,
     "metadata": {},
     "output_type": "execute_result"
    }
   ],
   "source": [
    "d =data[data['Gender_ratio']<=0.44]\n",
    "d['Dist.Code']"
   ]
  },
  {
   "cell_type": "markdown",
   "metadata": {
    "id": "GKGFfldo8PAh"
   },
   "source": [
    "# let's create a subset of our data set the perform EDA on selected 5 features"
   ]
  },
  {
   "cell_type": "code",
   "execution_count": 41,
   "metadata": {
    "id": "RFbcXe_W5iZ2"
   },
   "outputs": [],
   "source": [
    "sub_data = data[['TOT_M','TOT_F','M_LIT','MARGWORK_3_6_F','TOT_WORK_M','State']]"
   ]
  },
  {
   "cell_type": "code",
   "execution_count": 42,
   "metadata": {
    "colab": {
     "base_uri": "https://localhost:8080/",
     "height": 206
    },
    "id": "qmtUO4UH50Uv",
    "outputId": "c3385872-fcf8-4848-855d-4962ac93401b",
    "scrolled": true
   },
   "outputs": [
    {
     "data": {
      "text/html": [
       "<div>\n",
       "<style scoped>\n",
       "    .dataframe tbody tr th:only-of-type {\n",
       "        vertical-align: middle;\n",
       "    }\n",
       "\n",
       "    .dataframe tbody tr th {\n",
       "        vertical-align: top;\n",
       "    }\n",
       "\n",
       "    .dataframe thead th {\n",
       "        text-align: right;\n",
       "    }\n",
       "</style>\n",
       "<table border=\"1\" class=\"dataframe\">\n",
       "  <thead>\n",
       "    <tr style=\"text-align: right;\">\n",
       "      <th></th>\n",
       "      <th>TOT_M</th>\n",
       "      <th>TOT_F</th>\n",
       "      <th>M_LIT</th>\n",
       "      <th>MARGWORK_3_6_F</th>\n",
       "      <th>TOT_WORK_M</th>\n",
       "      <th>State</th>\n",
       "    </tr>\n",
       "  </thead>\n",
       "  <tbody>\n",
       "    <tr>\n",
       "      <th>0</th>\n",
       "      <td>23388</td>\n",
       "      <td>29796</td>\n",
       "      <td>13381</td>\n",
       "      <td>26044</td>\n",
       "      <td>6723</td>\n",
       "      <td>Jammu &amp; Kashmir</td>\n",
       "    </tr>\n",
       "    <tr>\n",
       "      <th>1</th>\n",
       "      <td>19585</td>\n",
       "      <td>23102</td>\n",
       "      <td>10513</td>\n",
       "      <td>18902</td>\n",
       "      <td>6982</td>\n",
       "      <td>Jammu &amp; Kashmir</td>\n",
       "    </tr>\n",
       "    <tr>\n",
       "      <th>2</th>\n",
       "      <td>6546</td>\n",
       "      <td>10964</td>\n",
       "      <td>4534</td>\n",
       "      <td>6164</td>\n",
       "      <td>2775</td>\n",
       "      <td>Jammu &amp; Kashmir</td>\n",
       "    </tr>\n",
       "    <tr>\n",
       "      <th>3</th>\n",
       "      <td>2784</td>\n",
       "      <td>4206</td>\n",
       "      <td>1842</td>\n",
       "      <td>3088</td>\n",
       "      <td>1002</td>\n",
       "      <td>Jammu &amp; Kashmir</td>\n",
       "    </tr>\n",
       "    <tr>\n",
       "      <th>4</th>\n",
       "      <td>20591</td>\n",
       "      <td>29981</td>\n",
       "      <td>13243</td>\n",
       "      <td>22289</td>\n",
       "      <td>5717</td>\n",
       "      <td>Jammu &amp; Kashmir</td>\n",
       "    </tr>\n",
       "  </tbody>\n",
       "</table>\n",
       "</div>"
      ],
      "text/plain": [
       "   TOT_M  TOT_F  M_LIT  MARGWORK_3_6_F  TOT_WORK_M            State\n",
       "0  23388  29796  13381           26044        6723  Jammu & Kashmir\n",
       "1  19585  23102  10513           18902        6982  Jammu & Kashmir\n",
       "2   6546  10964   4534            6164        2775  Jammu & Kashmir\n",
       "3   2784   4206   1842            3088        1002  Jammu & Kashmir\n",
       "4  20591  29981  13243           22289        5717  Jammu & Kashmir"
      ]
     },
     "execution_count": 42,
     "metadata": {},
     "output_type": "execute_result"
    }
   ],
   "source": [
    "sub_data.head(5)"
   ]
  },
  {
   "cell_type": "code",
   "execution_count": 43,
   "metadata": {
    "colab": {
     "base_uri": "https://localhost:8080/",
     "height": 371
    },
    "id": "n9d-l1xf89ZB",
    "outputId": "75fa85fb-394a-4149-d1a9-6e7db1627430"
   },
   "outputs": [
    {
     "data": {
      "text/plain": [
       "<AxesSubplot:>"
      ]
     },
     "execution_count": 43,
     "metadata": {},
     "output_type": "execute_result"
    },
    {
     "data": {
      "image/png": "[encoded data removed]",
      "text/plain": [
       "<Figure size 432x288 with 2 Axes>"
      ]
     },
     "metadata": {
      "needs_background": "light"
     },
     "output_type": "display_data"
    }
   ],
   "source": [
    "sns.heatmap(sub_data.corr(),annot=True,linewidths=1)"
   ]
  },
  {
   "cell_type": "code",
   "execution_count": 44,
   "metadata": {
    "colab": {
     "base_uri": "https://localhost:8080/",
     "height": 938
    },
    "id": "vRxxo8Hj9HYs",
    "outputId": "accc062d-089e-457a-8c86-d5414db37ead"
   },
   "outputs": [
    {
     "data": {
      "text/plain": [
       "<seaborn.axisgrid.PairGrid at 0x216a6ee3fa0>"
      ]
     },
     "execution_count": 44,
     "metadata": {},
     "output_type": "execute_result"
    },
    {
     "data": {
      "text/plain": [
       "<Figure size 2160x2160 with 0 Axes>"
      ]
     },
     "metadata": {},
     "output_type": "display_data"
    },
    {
     "data": {
      "image/png": "[encoded data removed]",
      "text/plain": [
       "<Figure size 1069.38x900 with 30 Axes>"
      ]
     },
     "metadata": {
      "needs_background": "light"
     },
     "output_type": "display_data"
    }
   ],
   "source": [
    "plt.figure(figsize = (30,30))\n",
    "sns.pairplot(data = sub_data,hue='State')"
   ]
  },
  {
   "cell_type": "markdown",
   "metadata": {
    "id": "t7a0gElv-T4S"
   },
   "source": [
    "# Part 2.3 - PCA: We choose not to treat outliers for this case. Do you think that treating outliers for this case is necessary?\n",
    "##Yes I think it is neccesary to treat outlier in PCA as it is sensitive to outliers.In our scenario we can see from boxplots below that features does conatain a lot of outlier that need to be treated."
   ]
  },
  {
   "cell_type": "code",
   "execution_count": 45,
   "metadata": {
    "colab": {
     "base_uri": "https://localhost:8080/",
     "height": 352
    },
    "id": "WdB8_kEs9NwZ",
    "outputId": "33b46878-0284-4452-ee75-57560acd1b61"
   },
   "outputs": [
    {
     "name": "stderr",
     "output_type": "stream",
     "text": [
      "C:\\Users\\Dell\\anaconda3\\lib\\site-packages\\seaborn\\_decorators.py:36: FutureWarning: Pass the following variable as a keyword arg: x. From version 0.12, the only valid positional argument will be `data`, and passing other arguments without an explicit keyword will result in an error or misinterpretation.\n",
      "  warnings.warn(\n"
     ]
    },
    {
     "data": {
      "text/plain": [
       "<AxesSubplot:xlabel='TOT_M'>"
      ]
     },
     "execution_count": 45,
     "metadata": {},
     "output_type": "execute_result"
    },
    {
     "data": {
      "image/png": "[encoded data removed]",
      "text/plain": [
       "<Figure size 432x288 with 1 Axes>"
      ]
     },
     "metadata": {
      "needs_background": "light"
     },
     "output_type": "display_data"
    }
   ],
   "source": [
    "sns.boxplot(data['TOT_M'])"
   ]
  },
  {
   "cell_type": "code",
   "execution_count": 46,
   "metadata": {
    "colab": {
     "base_uri": "https://localhost:8080/",
     "height": 352
    },
    "id": "y10j0Mfo_WEa",
    "outputId": "0426384a-5ce9-4258-c7a9-404a4b32f28a"
   },
   "outputs": [
    {
     "name": "stderr",
     "output_type": "stream",
     "text": [
      "C:\\Users\\Dell\\anaconda3\\lib\\site-packages\\seaborn\\_decorators.py:36: FutureWarning: Pass the following variable as a keyword arg: x. From version 0.12, the only valid positional argument will be `data`, and passing other arguments without an explicit keyword will result in an error or misinterpretation.\n",
      "  warnings.warn(\n"
     ]
    },
    {
     "data": {
      "text/plain": [
       "<AxesSubplot:xlabel='TOT_F'>"
      ]
     },
     "execution_count": 46,
     "metadata": {},
     "output_type": "execute_result"
    },
    {
     "data": {
      "image/png": "[encoded data removed]",
      "text/plain": [
       "<Figure size 432x288 with 1 Axes>"
      ]
     },
     "metadata": {
      "needs_background": "light"
     },
     "output_type": "display_data"
    }
   ],
   "source": [
    "sns.boxplot(data['TOT_F'])"
   ]
  },
  {
   "cell_type": "code",
   "execution_count": 47,
   "metadata": {
    "id": "wvn_hR6qAKUw"
   },
   "outputs": [],
   "source": [
    "data.drop('State', axis = 1,inplace = True)"
   ]
  },
  {
   "cell_type": "code",
   "execution_count": 48,
   "metadata": {},
   "outputs": [
    {
     "name": "stdout",
     "output_type": "stream",
     "text": [
      "<class 'pandas.core.frame.DataFrame'>\n",
      "RangeIndex: 640 entries, 0 to 639\n",
      "Data columns (total 61 columns):\n",
      " #   Column          Non-Null Count  Dtype  \n",
      "---  ------          --------------  -----  \n",
      " 0   State Code      640 non-null    int64  \n",
      " 1   Dist.Code       640 non-null    int64  \n",
      " 2   Area Name       640 non-null    object \n",
      " 3   No_HH           640 non-null    int64  \n",
      " 4   TOT_M           640 non-null    int64  \n",
      " 5   TOT_F           640 non-null    int64  \n",
      " 6   M_06            640 non-null    int64  \n",
      " 7   F_06            640 non-null    int64  \n",
      " 8   M_SC            640 non-null    int64  \n",
      " 9   F_SC            640 non-null    int64  \n",
      " 10  M_ST            640 non-null    int64  \n",
      " 11  F_ST            640 non-null    int64  \n",
      " 12  M_LIT           640 non-null    int64  \n",
      " 13  F_LIT           640 non-null    int64  \n",
      " 14  M_ILL           640 non-null    int64  \n",
      " 15  F_ILL           640 non-null    int64  \n",
      " 16  TOT_WORK_M      640 non-null    int64  \n",
      " 17  TOT_WORK_F      640 non-null    int64  \n",
      " 18  MAINWORK_M      640 non-null    int64  \n",
      " 19  MAINWORK_F      640 non-null    int64  \n",
      " 20  MAIN_CL_M       640 non-null    int64  \n",
      " 21  MAIN_CL_F       640 non-null    int64  \n",
      " 22  MAIN_AL_M       640 non-null    int64  \n",
      " 23  MAIN_AL_F       640 non-null    int64  \n",
      " 24  MAIN_HH_M       640 non-null    int64  \n",
      " 25  MAIN_HH_F       640 non-null    int64  \n",
      " 26  MAIN_OT_M       640 non-null    int64  \n",
      " 27  MAIN_OT_F       640 non-null    int64  \n",
      " 28  MARGWORK_M      640 non-null    int64  \n",
      " 29  MARGWORK_F      640 non-null    int64  \n",
      " 30  MARG_CL_M       640 non-null    int64  \n",
      " 31  MARG_CL_F       640 non-null    int64  \n",
      " 32  MARG_AL_M       640 non-null    int64  \n",
      " 33  MARG_AL_F       640 non-null    int64  \n",
      " 34  MARG_HH_M       640 non-null    int64  \n",
      " 35  MARG_HH_F       640 non-null    int64  \n",
      " 36  MARG_OT_M       640 non-null    int64  \n",
      " 37  MARG_OT_F       640 non-null    int64  \n",
      " 38  MARGWORK_3_6_M  640 non-null    int64  \n",
      " 39  MARGWORK_3_6_F  640 non-null    int64  \n",
      " 40  MARG_CL_3_6_M   640 non-null    int64  \n",
      " 41  MARG_CL_3_6_F   640 non-null    int64  \n",
      " 42  MARG_AL_3_6_M   640 non-null    int64  \n",
      " 43  MARG_AL_3_6_F   640 non-null    int64  \n",
      " 44  MARG_HH_3_6_M   640 non-null    int64  \n",
      " 45  MARG_HH_3_6_F   640 non-null    int64  \n",
      " 46  MARG_OT_3_6_M   640 non-null    int64  \n",
      " 47  MARG_OT_3_6_F   640 non-null    int64  \n",
      " 48  MARGWORK_0_3_M  640 non-null    int64  \n",
      " 49  MARGWORK_0_3_F  640 non-null    int64  \n",
      " 50  MARG_CL_0_3_M   640 non-null    int64  \n",
      " 51  MARG_CL_0_3_F   640 non-null    int64  \n",
      " 52  MARG_AL_0_3_M   640 non-null    int64  \n",
      " 53  MARG_AL_0_3_F   640 non-null    int64  \n",
      " 54  MARG_HH_0_3_M   640 non-null    int64  \n",
      " 55  MARG_HH_0_3_F   640 non-null    int64  \n",
      " 56  MARG_OT_0_3_M   640 non-null    int64  \n",
      " 57  MARG_OT_0_3_F   640 non-null    int64  \n",
      " 58  NON_WORK_M      640 non-null    int64  \n",
      " 59  NON_WORK_F      640 non-null    int64  \n",
      " 60  Gender_ratio    640 non-null    float64\n",
      "dtypes: float64(1), int64(59), object(1)\n",
      "memory usage: 305.1+ KB\n"
     ]
    }
   ],
   "source": [
    "data.info()"
   ]
  },
  {
   "cell_type": "code",
   "execution_count": 49,
   "metadata": {
    "id": "_VaUlhH1AWqz"
   },
   "outputs": [],
   "source": [
    "data.drop('Area Name',axis=1,inplace=True)"
   ]
  },
  {
   "cell_type": "code",
   "execution_count": 50,
   "metadata": {},
   "outputs": [
    {
     "name": "stdout",
     "output_type": "stream",
     "text": [
      "<class 'pandas.core.frame.DataFrame'>\n",
      "RangeIndex: 640 entries, 0 to 639\n",
      "Data columns (total 60 columns):\n",
      " #   Column          Non-Null Count  Dtype  \n",
      "---  ------          --------------  -----  \n",
      " 0   State Code      640 non-null    int64  \n",
      " 1   Dist.Code       640 non-null    int64  \n",
      " 2   No_HH           640 non-null    int64  \n",
      " 3   TOT_M           640 non-null    int64  \n",
      " 4   TOT_F           640 non-null    int64  \n",
      " 5   M_06            640 non-null    int64  \n",
      " 6   F_06            640 non-null    int64  \n",
      " 7   M_SC            640 non-null    int64  \n",
      " 8   F_SC            640 non-null    int64  \n",
      " 9   M_ST            640 non-null    int64  \n",
      " 10  F_ST            640 non-null    int64  \n",
      " 11  M_LIT           640 non-null    int64  \n",
      " 12  F_LIT           640 non-null    int64  \n",
      " 13  M_ILL           640 non-null    int64  \n",
      " 14  F_ILL           640 non-null    int64  \n",
      " 15  TOT_WORK_M      640 non-null    int64  \n",
      " 16  TOT_WORK_F      640 non-null    int64  \n",
      " 17  MAINWORK_M      640 non-null    int64  \n",
      " 18  MAINWORK_F      640 non-null    int64  \n",
      " 19  MAIN_CL_M       640 non-null    int64  \n",
      " 20  MAIN_CL_F       640 non-null    int64  \n",
      " 21  MAIN_AL_M       640 non-null    int64  \n",
      " 22  MAIN_AL_F       640 non-null    int64  \n",
      " 23  MAIN_HH_M       640 non-null    int64  \n",
      " 24  MAIN_HH_F       640 non-null    int64  \n",
      " 25  MAIN_OT_M       640 non-null    int64  \n",
      " 26  MAIN_OT_F       640 non-null    int64  \n",
      " 27  MARGWORK_M      640 non-null    int64  \n",
      " 28  MARGWORK_F      640 non-null    int64  \n",
      " 29  MARG_CL_M       640 non-null    int64  \n",
      " 30  MARG_CL_F       640 non-null    int64  \n",
      " 31  MARG_AL_M       640 non-null    int64  \n",
      " 32  MARG_AL_F       640 non-null    int64  \n",
      " 33  MARG_HH_M       640 non-null    int64  \n",
      " 34  MARG_HH_F       640 non-null    int64  \n",
      " 35  MARG_OT_M       640 non-null    int64  \n",
      " 36  MARG_OT_F       640 non-null    int64  \n",
      " 37  MARGWORK_3_6_M  640 non-null    int64  \n",
      " 38  MARGWORK_3_6_F  640 non-null    int64  \n",
      " 39  MARG_CL_3_6_M   640 non-null    int64  \n",
      " 40  MARG_CL_3_6_F   640 non-null    int64  \n",
      " 41  MARG_AL_3_6_M   640 non-null    int64  \n",
      " 42  MARG_AL_3_6_F   640 non-null    int64  \n",
      " 43  MARG_HH_3_6_M   640 non-null    int64  \n",
      " 44  MARG_HH_3_6_F   640 non-null    int64  \n",
      " 45  MARG_OT_3_6_M   640 non-null    int64  \n",
      " 46  MARG_OT_3_6_F   640 non-null    int64  \n",
      " 47  MARGWORK_0_3_M  640 non-null    int64  \n",
      " 48  MARGWORK_0_3_F  640 non-null    int64  \n",
      " 49  MARG_CL_0_3_M   640 non-null    int64  \n",
      " 50  MARG_CL_0_3_F   640 non-null    int64  \n",
      " 51  MARG_AL_0_3_M   640 non-null    int64  \n",
      " 52  MARG_AL_0_3_F   640 non-null    int64  \n",
      " 53  MARG_HH_0_3_M   640 non-null    int64  \n",
      " 54  MARG_HH_0_3_F   640 non-null    int64  \n",
      " 55  MARG_OT_0_3_M   640 non-null    int64  \n",
      " 56  MARG_OT_0_3_F   640 non-null    int64  \n",
      " 57  NON_WORK_M      640 non-null    int64  \n",
      " 58  NON_WORK_F      640 non-null    int64  \n",
      " 59  Gender_ratio    640 non-null    float64\n",
      "dtypes: float64(1), int64(59)\n",
      "memory usage: 300.1 KB\n"
     ]
    }
   ],
   "source": [
    "data.info()"
   ]
  },
  {
   "cell_type": "code",
   "execution_count": 51,
   "metadata": {
    "id": "-dk9VrOi_ucG"
   },
   "outputs": [],
   "source": [
    "from sklearn.preprocessing import  StandardScaler"
   ]
  },
  {
   "cell_type": "code",
   "execution_count": 52,
   "metadata": {
    "id": "Sw7NJxzB_6Vs"
   },
   "outputs": [],
   "source": [
    "scaler = StandardScaler()"
   ]
  },
  {
   "cell_type": "code",
   "execution_count": 53,
   "metadata": {
    "id": "-aZhVaTx_9bb"
   },
   "outputs": [],
   "source": [
    "scaled = pd.DataFrame(scaler.fit_transform(data),columns = data.columns)"
   ]
  },
  {
   "cell_type": "markdown",
   "metadata": {
    "id": "90yn9W9gBsWG"
   },
   "source": [
    "# Part 2.4 - PCA: Scale the Data using z-score method. Does scaling have any impact on outliers? Compare boxplots before and after scaling and comment."
   ]
  },
  {
   "cell_type": "markdown",
   "metadata": {
    "id": "fgcD-hHdAsIR"
   },
   "source": [
    "# Before scaling"
   ]
  },
  {
   "cell_type": "code",
   "execution_count": 54,
   "metadata": {
    "colab": {
     "base_uri": "https://localhost:8080/",
     "height": 352
    },
    "id": "Vc_xTTRYAEM8",
    "outputId": "d4388ca9-4a11-4029-eaf3-a926299ebe6e",
    "scrolled": true
   },
   "outputs": [
    {
     "name": "stderr",
     "output_type": "stream",
     "text": [
      "C:\\Users\\Dell\\anaconda3\\lib\\site-packages\\seaborn\\_decorators.py:36: FutureWarning: Pass the following variable as a keyword arg: x. From version 0.12, the only valid positional argument will be `data`, and passing other arguments without an explicit keyword will result in an error or misinterpretation.\n",
      "  warnings.warn(\n"
     ]
    },
    {
     "data": {
      "text/plain": [
       "<AxesSubplot:xlabel='TOT_M'>"
      ]
     },
     "execution_count": 54,
     "metadata": {},
     "output_type": "execute_result"
    },
    {
     "data": {
      "image/png": "[encoded data removed]",
      "text/plain": [
       "<Figure size 432x288 with 1 Axes>"
      ]
     },
     "metadata": {
      "needs_background": "light"
     },
     "output_type": "display_data"
    }
   ],
   "source": [
    "sns.boxplot(data['TOT_M'])"
   ]
  },
  {
   "cell_type": "markdown",
   "metadata": {
    "id": "-WGC1vx3Avj1"
   },
   "source": [
    "# After scaling"
   ]
  },
  {
   "cell_type": "code",
   "execution_count": 55,
   "metadata": {
    "colab": {
     "base_uri": "https://localhost:8080/",
     "height": 352
    },
    "id": "WtKQJLoUAupL",
    "outputId": "e0c7baf6-b240-47a8-e11d-cad898197cf3"
   },
   "outputs": [
    {
     "name": "stderr",
     "output_type": "stream",
     "text": [
      "C:\\Users\\Dell\\anaconda3\\lib\\site-packages\\seaborn\\_decorators.py:36: FutureWarning: Pass the following variable as a keyword arg: x. From version 0.12, the only valid positional argument will be `data`, and passing other arguments without an explicit keyword will result in an error or misinterpretation.\n",
      "  warnings.warn(\n"
     ]
    },
    {
     "data": {
      "text/plain": [
       "<AxesSubplot:xlabel='TOT_M'>"
      ]
     },
     "execution_count": 55,
     "metadata": {},
     "output_type": "execute_result"
    },
    {
     "data": {
      "image/png": "[encoded data removed]",
      "text/plain": [
       "<Figure size 432x288 with 1 Axes>"
      ]
     },
     "metadata": {
      "needs_background": "light"
     },
     "output_type": "display_data"
    }
   ],
   "source": [
    "sns.boxplot(scaled['TOT_M'])"
   ]
  },
  {
   "cell_type": "markdown",
   "metadata": {
    "id": "jKlEG9akBP7b"
   },
   "source": [
    "# As we can see after scaling the variance has been decreased due to which the oultliers are closely located to other data points thus reducing there effect."
   ]
  },
  {
   "cell_type": "code",
   "execution_count": 65,
   "metadata": {
    "id": "4QpeE6dIAzFU"
   },
   "outputs": [],
   "source": [
    "from sklearn.decomposition import PCA"
   ]
  },
  {
   "cell_type": "code",
   "execution_count": 66,
   "metadata": {
    "id": "NpU40deFB30V"
   },
   "outputs": [],
   "source": [
    "reducer = PCA(n_components=4)"
   ]
  },
  {
   "cell_type": "markdown",
   "metadata": {
    "id": "cNUM57DFIrVV"
   },
   "source": [
    "# Part 2.5 - PCA: Perform all the required steps for PCA (use sklearn only) Create the covariance Matrix Get eigen values and eigen vector."
   ]
  },
  {
   "cell_type": "code",
   "execution_count": 67,
   "metadata": {
    "id": "IZPglL1kIW16"
   },
   "outputs": [],
   "source": [
    "C = np.cov(reduced_data, rowvar = False)"
   ]
  },
  {
   "cell_type": "code",
   "execution_count": 68,
   "metadata": {
    "colab": {
     "base_uri": "https://localhost:8080/"
    },
    "id": "aWYgiRuUIpUL",
    "outputId": "30a07674-8885-413a-ac48-b989d7b6f679"
   },
   "outputs": [
    {
     "data": {
      "text/plain": [
       "array([[ 4.40513827e+10, -3.82066706e-07,  1.67154184e-07,\n",
       "         0.00000000e+00],\n",
       "       [-3.82066706e-07,  1.51948727e+09,  1.07456261e-07,\n",
       "        -2.38791691e-08],\n",
       "       [ 1.67154184e-07,  1.07456261e-07,  1.26894306e+09,\n",
       "         1.19395846e-08],\n",
       "       [ 0.00000000e+00, -2.38791691e-08,  1.19395846e-08,\n",
       "         3.67892434e+08]])"
      ]
     },
     "execution_count": 68,
     "metadata": {},
     "output_type": "execute_result"
    }
   ],
   "source": [
    "C"
   ]
  },
  {
   "cell_type": "code",
   "execution_count": 69,
   "metadata": {
    "id": "qqv0eS_1DlCf"
   },
   "outputs": [],
   "source": [
    "import numpy as np\n",
    "eigenvalues,eigenvectors = np.linalg.eig(C)"
   ]
  },
  {
   "cell_type": "code",
   "execution_count": 70,
   "metadata": {
    "colab": {
     "base_uri": "https://localhost:8080/"
    },
    "id": "FdKqNWPlINfj",
    "outputId": "0d8707c2-c582-42d2-9963-6eb99a07e343"
   },
   "outputs": [
    {
     "name": "stdout",
     "output_type": "stream",
     "text": [
      "The eigen values and eigen vectors are :  [4.40513827e+10 1.51948727e+09 1.26894306e+09 3.67892434e+08] [[ 1.00000000e+00 -8.98306322e-18  3.90707461e-18  2.32063675e-34]\n",
      " [ 0.00000000e+00 -1.00000000e+00  2.06985419e-16  2.07357384e-17]\n",
      " [ 0.00000000e+00 -2.85598855e-17 -1.00000000e+00 -1.32507367e-17]\n",
      " [ 0.00000000e+00  1.16158094e-16  2.65504215e-16  1.00000000e+00]]\n"
     ]
    }
   ],
   "source": [
    "print(\"The eigen values and eigen vectors are : \",eigenvalues,eigenvectors)"
   ]
  },
  {
   "cell_type": "markdown",
   "metadata": {
    "id": "-C8yELHuI_g2"
   },
   "source": [
    "# Part 2.6 - PCA: Identify the optimum number of PCs (for this project, take at least 90% explained variance). Show Scree plot."
   ]
  },
  {
   "cell_type": "code",
   "execution_count": 71,
   "metadata": {
    "id": "kAnapuefD7vX"
   },
   "outputs": [],
   "source": [
    "reduced_data = reducer.fit_transform(data)\n",
    "explained_variance = np.var(reduced_data, axis=0)\n",
    "explained_variance_ratio = explained_variance / np.sum(explained_variance)\n",
    "var = np.cumsum(explained_variance_ratio)"
   ]
  },
  {
   "cell_type": "code",
   "execution_count": 73,
   "metadata": {
    "colab": {
     "base_uri": "https://localhost:8080/",
     "height": 295
    },
    "id": "MUfFvmirCWXv",
    "outputId": "b3838c0a-70ee-4e75-abce-3563e67428ad"
   },
   "outputs": [
    {
     "data": {
      "image/png": "[encoded data removed]",
      "text/plain": [
       "<Figure size 432x288 with 1 Axes>"
      ]
     },
     "metadata": {
      "needs_background": "light"
     },
     "output_type": "display_data"
    }
   ],
   "source": [
    "PC_values = np.arange(reducer.n_components_) + 1\n",
    "plt.plot(PC_values, reducer.explained_variance_ratio_, 'ro-', linewidth=2)\n",
    "plt.title('Scree Plot')\n",
    "plt.xlabel('Principal Component')\n",
    "plt.ylabel('Proportion of Variance Explained')\n",
    "plt.show()"
   ]
  },
  {
   "cell_type": "markdown",
   "metadata": {
    "id": "TAf5m-vJFGje"
   },
   "source": [
    "# The graph tells the first principal component captures about 95% of the information present in the original mathematical space i.e. explains ~ 95% of the variation in the data. On taking the first two components together, the total explained variation is close to 98% and when taking the first three components, then the cumulative explained variation is ~ 98% and ~ 99% of the variation is captured by the first four principal components. "
   ]
  },
  {
   "cell_type": "markdown",
   "metadata": {
    "id": "1hb8b6OYJJ3h"
   },
   "source": [
    "# Part 2.7 - PCA: Compare PCs with Actual Columns and identify which is explaining most variance. Write inferences about all the Principal components in terms of actual variables."
   ]
  },
  {
   "cell_type": "code",
   "execution_count": 74,
   "metadata": {
    "colab": {
     "base_uri": "https://localhost:8080/",
     "height": 464
    },
    "id": "icbnSWRjJCml",
    "outputId": "07e42328-c7df-4727-c342-77d8a703b1ac",
    "scrolled": true
   },
   "outputs": [
    {
     "data": {
      "image/png": "[encoded data removed]",
      "text/plain": [
       "<Figure size 432x288 with 1 Axes>"
      ]
     },
     "metadata": {
      "needs_background": "light"
     },
     "output_type": "display_data"
    },
    {
     "data": {
      "text/plain": [
       "F_ST          0.66\n",
       "M_ST          0.41\n",
       "F_LIT         0.17\n",
       "MAINWORK_M   -0.21\n",
       "M_SC         -0.23\n",
       "F_SC         -0.31\n",
       "Name: 3, dtype: float64"
      ]
     },
     "execution_count": 74,
     "metadata": {},
     "output_type": "execute_result"
    }
   ],
   "source": [
    "def feature_weight(pca, n_comp, n_feat):\n",
    "    #df = pd.DataFrame(np.round(pca.components_,2),columns = scaled_data.columns)\n",
    "    comp = pd.DataFrame(np.round(pca.components_, 2), columns=data.keys()).iloc[n_comp - 1]\n",
    "    comp.sort_values(ascending=False, inplace=True)\n",
    "    comp = pd.concat([comp.head(n_feat), comp.tail(n_feat)])\n",
    "    comp.plot(kind='bar', title='Top {} weighted attributes for PCA component {}'.format(n_feat, n_comp))\n",
    "    plt.show()\n",
    "    return comp\n",
    "feature_weight(reducer,0,3)"
   ]
  },
  {
   "cell_type": "markdown",
   "metadata": {
    "id": "-SDXCn75K9GL"
   },
   "source": [
    "# Part 2.7 - PCA: Write linear equation for first PC."
   ]
  },
  {
   "cell_type": "code",
   "execution_count": null,
   "metadata": {
    "id": "ZpWFfXy4JRhL"
   },
   "outputs": [],
   "source": [
    "\n",
    "          "
   ]
  },
  {
   "cell_type": "code",
   "execution_count": null,
   "metadata": {
    "id": "Ix0WV9ItK4vn"
   },
   "outputs": [],
   "source": []
  },
  {
   "cell_type": "code",
   "execution_count": null,
   "metadata": {},
   "outputs": [],
   "source": []
  },
  {
   "cell_type": "code",
   "execution_count": null,
   "metadata": {},
   "outputs": [],
   "source": []
  }
 ],
 "metadata": {
  "colab": {
   "collapsed_sections": [],
   "provenance": []
  },
  "kernelspec": {
   "display_name": "Python 3 (ipykernel)",
   "language": "python",
   "name": "python3"
  },
  "language_info": {
   "codemirror_mode": {
    "name": "ipython",
    "version": 3
   },
   "file_extension": ".py",
   "mimetype": "text/x-python",
   "name": "python",
   "nbconvert_exporter": "python",
   "pygments_lexer": "ipython3",
   "version": "3.9.12"
  }
 },
 "nbformat": 4,
 "nbformat_minor": 1
}
